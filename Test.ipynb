{
 "cells": [
  {
   "cell_type": "code",
   "execution_count": 1,
   "metadata": {
    "collapsed": true
   },
   "outputs": [],
   "source": [
    "from bs4 import BeautifulSoup\n",
    "import urllib,requests\n",
    "import jinja2"
   ]
  },
  {
   "cell_type": "code",
   "execution_count": 2,
   "metadata": {
    "collapsed": false
   },
   "outputs": [
    {
     "name": "stderr",
     "output_type": "stream",
     "text": [
      "/usr/local/lib/python2.7/site-packages/bs4/__init__.py:166: UserWarning: No parser was explicitly specified, so I'm using the best available HTML parser for this system (\"html.parser\"). This usually isn't a problem, but if you run this code on another system, or in a different virtual environment, it may use a different parser and behave differently.\n",
      "\n",
      "To get rid of this warning, change this:\n",
      "\n",
      " BeautifulSoup([your markup])\n",
      "\n",
      "to this:\n",
      "\n",
      " BeautifulSoup([your markup], \"html.parser\")\n",
      "\n",
      "  markup_type=markup_type))\n"
     ]
    }
   ],
   "source": [
    "url_to_scrape = 'http://www.imdb.com/chart/boxoffice'\n",
    "r = requests.get(url_to_scrape)\n",
    "soup = BeautifulSoup(r.text)"
   ]
  },
  {
   "cell_type": "code",
   "execution_count": 3,
   "metadata": {
    "collapsed": true
   },
   "outputs": [],
   "source": [
    "table=soup.findAll(\"table\", {\"data-caller-name\" : \"chart-boxoffice\"})"
   ]
  },
  {
   "cell_type": "code",
   "execution_count": 30,
   "metadata": {
    "collapsed": false
   },
   "outputs": [],
   "source": [
    "imgs=[x.find('img')[\"src\"] for x in table[0].findAll('td',{\"class\":\"posterColumn\"})]\n",
    "movies=[(x.find('a').text,x.find('a')[\"title\"]) for x in table[0].findAll('td',{\"class\":\"titleColumn\"})]"
   ]
  },
  {
   "cell_type": "code",
   "execution_count": 31,
   "metadata": {
    "collapsed": false
   },
   "outputs": [
    {
     "data": {
      "text/plain": [
       "[(u'Cars 3', u'Brian Fee (dir.), Owen Wilson, Cristela Alonzo'),\n",
       " (u'Wonder Woman', u'Patty Jenkins (dir.), Gal Gadot, Chris Pine'),\n",
       " (u'All Eyez on Me', u'Benny Boom (dir.), Demetrius Shipp Jr., Danai Gurira'),\n",
       " (u'The Mummy', u'Alex Kurtzman (dir.), Tom Cruise, Sofia Boutella'),\n",
       " (u'47 Meters Down', u'Johannes Roberts (dir.), Mandy Moore, Claire Holt'),\n",
       " (u'Pirates of the Caribbean: Dead Men Tell No Tales',\n",
       "  u'Joachim R\\xf8nning (dir.), Johnny Depp, Geoffrey Rush'),\n",
       " (u'Rough Night', u'Lucia Aniello (dir.), Scarlett Johansson, Kate McKinnon'),\n",
       " (u'Captain Underpants: The First Epic Movie',\n",
       "  u'David Soren (dir.), Kevin Hart, Thomas Middleditch'),\n",
       " (u'Guardians of the Galaxy Vol. 2',\n",
       "  u'James Gunn (dir.), Chris Pratt, Zoe Saldana'),\n",
       " (u'It Comes at Night',\n",
       "  u'Trey Edward Shults (dir.), Joel Edgerton, Christopher Abbott')]"
      ]
     },
     "execution_count": 31,
     "metadata": {},
     "output_type": "execute_result"
    }
   ],
   "source": [
    "movies"
   ]
  },
  {
   "cell_type": "code",
   "execution_count": 29,
   "metadata": {
    "collapsed": false
   },
   "outputs": [
    {
     "data": {
      "text/plain": [
       "u'Brian Fee (dir.), Owen Wilson, Cristela Alonzo'"
      ]
     },
     "execution_count": 29,
     "metadata": {},
     "output_type": "execute_result"
    }
   ],
   "source": [
    "table[0].findAll('td',{\"class\":\"titleColumn\"})[0].find('a')[\"title\"]"
   ]
  },
  {
   "cell_type": "code",
   "execution_count": null,
   "metadata": {
    "collapsed": true
   },
   "outputs": [],
   "source": [
    "templateLoader = jinja2.FileSystemLoader( searchpath=\".\" )\n",
    "templateEnv = jinja2.Environment(loader=templateLoader )\n",
    "TEMPLATE_FILE = \"control1hour.jinja2\"\n",
    "template = templateEnv.get_template( TEMPLATE_FILE )\n",
    "outputText = template.render( content)\n",
    "with open(\"control1hour.js\", \"wb\") as fh:\n",
    "    fh.write(outputText)      \n",
    "    "
   ]
  }
 ],
 "metadata": {
  "kernelspec": {
   "display_name": "Python 2",
   "language": "python",
   "name": "python2"
  },
  "language_info": {
   "codemirror_mode": {
    "name": "ipython",
    "version": 2
   },
   "file_extension": ".py",
   "mimetype": "text/x-python",
   "name": "python",
   "nbconvert_exporter": "python",
   "pygments_lexer": "ipython2",
   "version": "2.7.11"
  }
 },
 "nbformat": 4,
 "nbformat_minor": 2
}
